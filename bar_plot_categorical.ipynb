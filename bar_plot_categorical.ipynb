cat_vars=['season', 'yr', 'mnth', 'holiday', 'weekday',
       'workingday', 'weathersit']
plt.figure(figsize=(15,15))
for col,i in zip(cat_vars,range(1,len(cat_vars)+1)):
    plt.subplot(3,3,i)
    res =df.groupby(by=col)["cnt"].sum()
    sns.barplot(x = res.index, y = res.values)
