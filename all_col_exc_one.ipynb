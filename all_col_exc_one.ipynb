X_train.loc[:,X_train.columns!='dteday']
