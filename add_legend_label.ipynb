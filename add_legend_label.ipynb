a, =plt.plot(c,y_test,label="y_test")
b, = plt.plot(c,y_test_pred,label="y_test_pred")
fig.suptitle('Comapring y_test and y_pred', fontsize=20)              # Plot heading 
plt.xlabel('Index', fontsize=18)                          # X-label
plt.ylabel('y_pred and y_test_pred', fontsize=16)
plt.legend(handles=[a,b])
